{
 "cells": [
  {
   "cell_type": "markdown",
   "id": "c568c4b0",
   "metadata": {},
   "source": [
    "# Ejercicios básicos resueltos"
   ]
  },
  {
   "cell_type": "markdown",
   "id": "0732858d",
   "metadata": {},
   "source": [
    "1. Suma de números pares: Escribe un programa que sume todos los números pares del 1 al 100.\n",
    "\n",
    "2. Contador de múltiplos: Crea un programa que cuente cuántos números entre 1 y 100 son múltiplos de 3.\n",
    "\n",
    "3. Tabla de multiplicar: Pide al usuario un número y muestra su tabla de multiplicar del 1 al 10.\n",
    "\n",
    "4. Números primos: Escribe un programa que determine si un número ingresado por el usuario es primo.\n",
    "\n",
    "5. Factorial: Calcula el factorial de un número ingresado por el usuario usando un bucle for."
   ]
  },
  {
   "cell_type": "markdown",
   "id": "2f710859",
   "metadata": {},
   "source": [
    "## 1) Resolución"
   ]
  },
  {
   "cell_type": "code",
   "execution_count": 22,
   "id": "5c02d76d",
   "metadata": {},
   "outputs": [
    {
     "name": "stdout",
     "output_type": "stream",
     "text": [
      "2550\n"
     ]
    }
   ],
   "source": [
    "variable_suma:int = 0;\n",
    "    \n",
    "for i in range(1,101):\n",
    "    \n",
    "    if i%2 == 0:\n",
    "        \n",
    "        variable_suma += i;\n",
    "\n",
    "print(variable_suma)"
   ]
  },
  {
   "cell_type": "code",
   "execution_count": null,
   "id": "497ff035",
   "metadata": {},
   "outputs": [],
   "source": []
  },
  {
   "cell_type": "markdown",
   "id": "df305949",
   "metadata": {},
   "source": [
    "## 2) Resolución"
   ]
  },
  {
   "cell_type": "code",
   "execution_count": 30,
   "id": "3bfe8006",
   "metadata": {},
   "outputs": [
    {
     "name": "stdout",
     "output_type": "stream",
     "text": [
      "33\n"
     ]
    }
   ],
   "source": [
    "contador_multiplos_3:int = 0;\n",
    "\n",
    "for i in range(1,101):\n",
    "    \n",
    "    if i%3 == 0:\n",
    "\n",
    "        #contador_multiplos_3 = contador_multiplos_3 + 1;\n",
    "        contador_multiplos_3 += 1;\n",
    "        \n",
    "print(contador_multiplos_3)"
   ]
  },
  {
   "cell_type": "markdown",
   "id": "7b26dc0a",
   "metadata": {},
   "source": [
    "## 3) Resolución"
   ]
  },
  {
   "cell_type": "code",
   "execution_count": 43,
   "id": "9f079018",
   "metadata": {},
   "outputs": [
    {
     "name": "stdout",
     "output_type": "stream",
     "text": [
      "Ingresar por favor un dato de tipo numérico: 3\n",
      "1 x 3 = 3\n",
      "2 x 3 = 6\n",
      "3 x 3 = 9\n",
      "4 x 3 = 12\n",
      "5 x 3 = 15\n",
      "6 x 3 = 18\n",
      "7 x 3 = 21\n",
      "8 x 3 = 24\n",
      "9 x 3 = 27\n",
      "10 x 3 = 30\n"
     ]
    }
   ],
   "source": [
    "numero_usuario:int = input('Ingresar por favor un dato de tipo numérico: ');\n",
    "'''\n",
    "siempre que meta un dato el usuario, va a venir como string, nunca como numero.\n",
    "'''\n",
    "numero_usuario     = int(numero_usuario);\n",
    "\n",
    "for i in range(1,11):\n",
    "    \n",
    "    variable_tabla:int = 0;\n",
    "    \n",
    "    variable_tabla = numero_usuario * i;\n",
    "    \n",
    "    print(f'{i} x {numero_usuario} = {variable_tabla}')"
   ]
  },
  {
   "cell_type": "markdown",
   "id": "9d289039",
   "metadata": {},
   "source": [
    "## 4) Resolución"
   ]
  },
  {
   "cell_type": "code",
   "execution_count": 80,
   "id": "a4656803",
   "metadata": {},
   "outputs": [
    {
     "name": "stdout",
     "output_type": "stream",
     "text": [
      "Ingresar por favor un dato de tipo numérico que esté dentro de los números naturales: 113\n",
      "El numero efectivamente es primo\n"
     ]
    }
   ],
   "source": [
    "# Pedimos el numero al usuario\n",
    "numero_usuario = input('Ingresar por favor un dato de tipo numérico que esté dentro de los números naturales: ');\n",
    "\n",
    "# Transformamos el dato de tipo string ingresado a tipo int.\n",
    "numero_usuario = int(numero_usuario)\n",
    "\n",
    "# Chequear si el dato ingresado por el usuario es primo\n",
    "for i in range(2,numero_usuario):\n",
    "    \n",
    "    if numero_usuario%i == 0:\n",
    "        \n",
    "        print('No es primo');\n",
    "        \n",
    "        break;\n",
    "    \n",
    "    if numero_usuario - 1 == i:\n",
    "        print('El numero efectivamente es primo');"
   ]
  },
  {
   "cell_type": "markdown",
   "id": "bbdfb6eb",
   "metadata": {},
   "source": [
    "## 5) Resolución"
   ]
  }
 ],
 "metadata": {
  "kernelspec": {
   "display_name": "Python 3 (ipykernel)",
   "language": "python",
   "name": "python3"
  },
  "language_info": {
   "codemirror_mode": {
    "name": "ipython",
    "version": 3
   },
   "file_extension": ".py",
   "mimetype": "text/x-python",
   "name": "python",
   "nbconvert_exporter": "python",
   "pygments_lexer": "ipython3",
   "version": "3.10.9"
  }
 },
 "nbformat": 4,
 "nbformat_minor": 5
}
